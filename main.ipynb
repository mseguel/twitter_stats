{
 "cells": [
  {
   "cell_type": "code",
   "execution_count": 3,
   "id": "687be906",
   "metadata": {},
   "outputs": [
    {
     "name": "stdout",
     "output_type": "stream",
     "text": [
      "Bienvenido a Twitter Stats\n",
      "####################################\n",
      "Elige una opcion\n",
      "[1]. Ver los Top 10 tweets más retweeted\n",
      "[2]. Ver los Top 10 usuarios en función a la cantidad de tweets que emitieron\n",
      "[3]. Ver los Top 10 días donde hay más tweets\n",
      "[4]. Ver los Top 10 hashtags más usados\n",
      "Los 10 días donde hay más tweets son:\n",
      "2021-03-30    150\n",
      "Name: fecha, dtype: int64\n",
      "####################################\n",
      "Elige una opcion\n",
      "[1]. Ver los Top 10 tweets más retweeted\n",
      "[2]. Ver los Top 10 usuarios en función a la cantidad de tweets que emitieron\n",
      "[3]. Ver los Top 10 días donde hay más tweets\n",
      "[4]. Ver los Top 10 hashtags más usados\n",
      "####################################\n"
     ]
    }
   ],
   "source": [
    "import functions as fc\n",
    "import pandas as pd\n",
    "\n",
    "print(\"Bienvenido a Twitter Stats\")\n",
    "print(\"####################################\")\n",
    "data = pd.read_json('data/farmers-protest-tweets-2021-03-5.json', lines=True)\n",
    "# data = pd.read_json('data/test.json')\n",
    "check = True\n",
    "while check:\n",
    "    print(\"Elige una opcion\")\n",
    "    print(\"[1]. Ver los Top 10 tweets más retweeted\")\n",
    "    print(\"[2]. Ver los Top 10 usuarios en función a la cantidad de tweets que emitieron\")\n",
    "    print(\"[3]. Ver los Top 10 días donde hay más tweets\")\n",
    "    print(\"[4]. Ver los Top 10 hashtags más usados\")\n",
    "    input_usuario = str(input(\"Ingresa una opcion [q para salir]\"))\n",
    "    if input_usuario == \"1\":\n",
    "        fc.retweeted(data)\n",
    "    elif input_usuario == \"2\":\n",
    "        fc.usuarios(data)\n",
    "    elif input_usuario == \"3\":\n",
    "        fc.dias(data)\n",
    "    elif input_usuario == \"4\":\n",
    "        fc.usados(data)\n",
    "    elif input_usuario == \"q\" or input_usuario == \"Q\":\n",
    "        check = False\n",
    "    else:\n",
    "        print(\"Opcion no valida\")\n",
    "    print(\"####################################\")\n",
    "\n",
    "    "
   ]
  }
 ],
 "metadata": {
  "interpreter": {
   "hash": "916dbcbb3f70747c44a77c7bcd40155683ae19c65e1c03b4aa3499c5328201f1"
  },
  "kernelspec": {
   "display_name": "Python 3.8.10 64-bit",
   "language": "python",
   "name": "python3"
  },
  "language_info": {
   "codemirror_mode": {
    "name": "ipython",
    "version": 3
   },
   "file_extension": ".py",
   "mimetype": "text/x-python",
   "name": "python",
   "nbconvert_exporter": "python",
   "pygments_lexer": "ipython3",
   "version": "3.8.6"
  }
 },
 "nbformat": 4,
 "nbformat_minor": 5
}
